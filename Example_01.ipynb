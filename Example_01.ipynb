{
  "cells": [
    {
      "cell_type": "code",
      "execution_count": null,
      "metadata": {
        "id": "Nxn-jyAPdW8l"
      },
      "outputs": [],
      "source": [
        "import numpy as np\n",
        "import math"
      ]
    },
    {
      "cell_type": "markdown",
      "metadata": {
        "id": "Je95UkAAeSz3"
      },
      "source": [
        "The equation we are testing is\n",
        "\n",
        "$$\n",
        "\\begin{cases}\n",
        "u'(x) + u(x) = x, \\qquad\\text{for}\\; 0<x<1,\\\\\n",
        "u(0) = 1.\n",
        "\\end{cases}\n",
        "$$ \n",
        "\n",
        "The exact solution is\n",
        "$$ u^*(x) = x-1+2e^{-x}.$$\n",
        "\n",
        "\n",
        "\n",
        "---\n",
        "\n",
        "The idea of the paper is, assume $$u = \\mathrm{NN}(x).$$\n",
        "We minimize the loss function\n",
        "$$ L(\\hat{u}) = \\mathrm{Mean}\\left(\\left\\Vert \\frac{d\\hat{u}}{dx} + \\hat{u} -x\\right\\Vert^2\\right) + |\\hat{u}(0)-1|^2 $$\n",
        "where all the derivatives are computed via \n",
        "* back-propagation - we tried this idea but it does not work well, maybe autograd in Pytorch does not perform it well, or the idea behind it is problematic, in the sense that the derivative obtained by back-propagation with second-order is not very nice.\n",
        "* finite difference scheme"
      ]
    },
    {
      "cell_type": "code",
      "execution_count": null,
      "metadata": {
        "id": "oqyi5e3sePDl"
      },
      "outputs": [],
      "source": [
        "# Import libraries\n",
        "from numpy import linalg\n",
        "import pandas as pd\n",
        "# !pip3 install torch==1.2.0+cu92 torchvision==0.4.0+cu92 -f https://download.pytorch.org/whl/torch_stable.html\n",
        "import torch\n",
        "import torch.nn as nn\n",
        "import torch.nn.functional as F\n",
        "import torchvision\n",
        "import torchvision.transforms as transforms\n",
        "from torch.autograd import Variable\n",
        "\n",
        "import torch.nn.init as init\n",
        "from torch import autograd\n",
        "\n",
        "from torch import nn, optim\n",
        "from time import time"
      ]
    },
    {
      "cell_type": "code",
      "execution_count": null,
      "metadata": {
        "id": "UMTkPFHHFihK"
      },
      "outputs": [],
      "source": [
        "def u_star_func(x):\n",
        "    result = x-1+2*np.exp(-x)\n",
        "    return result"
      ]
    },
    {
      "cell_type": "code",
      "execution_count": null,
      "metadata": {
        "id": "LBN2LBiGxH2M"
      },
      "outputs": [],
      "source": [
        "# Discritize the interval\n",
        "a = 0\n",
        "b = 1\n",
        "step = (b-a)/100\n",
        "x_init_np = np.arange(start=a, stop=b+step, step=step)"
      ]
    },
    {
      "cell_type": "code",
      "execution_count": null,
      "metadata": {
        "id": "TKC-9hQRFVL2"
      },
      "outputs": [],
      "source": [
        "def Loss(u_hat, first_derivative_u_hat, x_data):\n",
        "    # all inputs are n-dim pytorch tensors\n",
        "    loss = nn.MSELoss()\n",
        "    result = loss(first_derivative_u_hat[1:-1] + u_hat[1:-1] , x_data[1:-1]) + torch.pow(u_hat[0]-1,2) \n",
        "    return result"
      ]
    },
    {
      "cell_type": "code",
      "execution_count": null,
      "metadata": {
        "colab": {
          "base_uri": "https://localhost:8080/"
        },
        "id": "pxN0oTjcd76g",
        "outputId": "3372eca3-4106-4fb9-dd66-c66385d7ebf6"
      },
      "outputs": [
        {
          "name": "stdout",
          "output_type": "stream",
          "text": [
            "Sequential(\n",
            "  (0): Linear(in_features=1, out_features=10, bias=True)\n",
            "  (1): Tanh()\n",
            "  (2): Linear(in_features=10, out_features=1, bias=True)\n",
            "  (3): Tanh()\n",
            ")\n"
          ]
        }
      ],
      "source": [
        "# u = sigma(W4(sigma(W3... x)))\n",
        "\n",
        "input_size = 1\n",
        "output_size = 1\n",
        "k = 10\n",
        "model = nn.Sequential(nn.Linear(input_size, k),\n",
        "                      nn.Tanh(),\n",
        "\n",
        "                      nn.Linear(k, output_size),\n",
        "                      nn.Tanh(),\n",
        "\n",
        "                      )\n",
        "print(model)"
      ]
    },
    {
      "cell_type": "code",
      "execution_count": null,
      "metadata": {
        "colab": {
          "base_uri": "https://localhost:8080/"
        },
        "id": "PL1a6glKxrtJ",
        "outputId": "2d0c6cc1-9150-4cd2-836f-ca687e3c1de7"
      },
      "outputs": [
        {
          "name": "stdout",
          "output_type": "stream",
          "text": [
            "torch.Size([100])\n"
          ]
        }
      ],
      "source": [
        "x_init_np = np.arange(start=a, stop=b, step=step)\n",
        "x_init = torch.tensor(x_init_np, requires_grad= True)\n",
        "# print(x_init)\n",
        "print(x_init.shape)"
      ]
    },
    {
      "cell_type": "code",
      "execution_count": null,
      "metadata": {
        "id": "y21HCpj9Itcd"
      },
      "outputs": [],
      "source": [
        "import matplotlib.pyplot as plt\n",
        "def draw_result(lst_iter, lst_loss, title='Loss'):\n",
        "    plt.plot(lst_iter, lst_loss, '-b', label='loss')\n",
        "    \n",
        "    plt.xlabel(\"n iteration\")\n",
        "    plt.legend(loc='upper left')\n",
        "    plt.title(title)\n",
        "\n",
        "    # save image\n",
        "    plt.savefig(title +\".png\")  # should before show method\n",
        "\n",
        "    # show\n",
        "    plt.show()\n",
        "\n",
        "# plt.plot(test_error_vec)\n",
        "# plt.show()\n",
        "\n",
        "\n",
        "def draw_graph(lst_iter, lst_loss, lst_acc, title):\n",
        "    plt.plot(lst_iter, lst_loss, '-b', label='true')\n",
        "    plt.plot(lst_iter, lst_acc, '-r', label='neural network')\n",
        "\n",
        "    plt.xlabel(\"x\")\n",
        "    plt.legend(loc='upper left')\n",
        "    plt.title(title)\n",
        "\n",
        "    # save image\n",
        "    plt.savefig(title+\".png\")  # should before show method\n",
        "\n",
        "    # show\n",
        "    plt.show()"
      ]
    },
    {
      "cell_type": "code",
      "execution_count": null,
      "metadata": {
        "id": "7sqtXd41_1KQ"
      },
      "outputs": [],
      "source": [
        "def run_train(lr = 0.001, num_e = 1000):\n",
        "    # optimizer = optim.SGD(model.parameters(), lr=0.07, momentum=3.0)\n",
        "    optimizer = optim.Adam(model.parameters(), lr=lr)\n",
        "    time0 = time()\n",
        "    num_e = num_e\n",
        "    iter = []\n",
        "    test_error_vec = []\n",
        "    \n",
        "    for e in range(num_e):\n",
        "        running_loss = 0\n",
        "        \n",
        "        optimizer.zero_grad()  # call zero_Grad\n",
        "        \n",
        "        u_hat = torch.tensor(np.array([]))\n",
        "        for x in x_init_np:\n",
        "            x_tensor = torch.tensor(np.array([x]), requires_grad= True)\n",
        "            temp = model(x_tensor.float())\n",
        "            u_hat = torch.hstack([u_hat, temp])\n",
        "        d1u_hat = u_hat.clone()    \n",
        "        d1u_hat[1:-1] = (-u_hat[0:-2] + u_hat[2:])/(2*step)\n",
        "        loss = Loss(u_hat,d1u_hat,x_init)\n",
        "\n",
        "        loss.backward()\n",
        "        optimizer.step() \n",
        "\n",
        "        running_loss += loss.clone().item()    \n",
        "        if (e % 10 == 0):\n",
        "            print(f\"The running loss at {e+1} iteration is: {running_loss}\")\n",
        "        test_error_vec.append(running_loss)\n",
        "        iter.append(e)\n",
        "\n",
        "    draw_result(iter, test_error_vec)\n",
        "\n",
        "    y_true = u_star_func(x_init_np)\n",
        "    draw_graph(x_init_np, y_true, u_hat.clone().detach().numpy(), 'Solutions')\n",
        "    print(np.mean(np.square(y_true -  u_hat.clone().detach().numpy())))"
      ]
    },
    {
      "cell_type": "code",
      "execution_count": null,
      "metadata": {
        "colab": {
          "background_save": true,
          "base_uri": "https://localhost:8080/",
          "height": 1000
        },
        "id": "9iLfRcetCPX_",
        "outputId": "d0f01343-bd95-411f-fc0e-6aa161ffc228"
      },
      "outputs": [
        {
          "name": "stdout",
          "output_type": "stream",
          "text": [
            "The running loss at 1 iteration is: 1.4944181581657534\n",
            "The running loss at 11 iteration is: 0.22208906510227414\n",
            "The running loss at 21 iteration is: 0.11584321923755589\n",
            "The running loss at 31 iteration is: 0.07101248856190256\n",
            "The running loss at 41 iteration is: 0.02968542859449012\n",
            "The running loss at 51 iteration is: 0.01993116422225473\n",
            "The running loss at 61 iteration is: 0.015845936322937054\n",
            "The running loss at 71 iteration is: 0.014808093310872985\n",
            "The running loss at 81 iteration is: 0.014336811334425641\n",
            "The running loss at 91 iteration is: 0.013926746204489946\n",
            "The running loss at 101 iteration is: 0.013629131497013702\n",
            "The running loss at 111 iteration is: 0.013349461178052302\n",
            "The running loss at 121 iteration is: 0.01308864160356105\n",
            "The running loss at 131 iteration is: 0.012819846890860069\n",
            "The running loss at 141 iteration is: 0.012533688725001164\n",
            "The running loss at 151 iteration is: 0.012222046265829858\n",
            "The running loss at 161 iteration is: 0.011876838380550158\n",
            "The running loss at 171 iteration is: 0.011492988280182484\n",
            "The running loss at 181 iteration is: 0.011067398432326977\n",
            "The running loss at 191 iteration is: 0.010599751669443658\n",
            "The running loss at 201 iteration is: 0.01009253447721823\n",
            "The running loss at 211 iteration is: 0.009551552068429052\n",
            "The running loss at 221 iteration is: 0.00898581849484845\n",
            "The running loss at 231 iteration is: 0.008407429289218685\n",
            "The running loss at 241 iteration is: 0.007830919809368082\n",
            "The running loss at 251 iteration is: 0.007271670363293573\n",
            "The running loss at 261 iteration is: 0.006744632489396538\n",
            "The running loss at 271 iteration is: 0.006262326028836534\n",
            "The running loss at 281 iteration is: 0.005833406593132584\n",
            "The running loss at 291 iteration is: 0.0054617306008855095\n",
            "The running loss at 301 iteration is: 0.005146497546074403\n",
            "The running loss at 311 iteration is: 0.004882967132961912\n",
            "The running loss at 321 iteration is: 0.004663837652820551\n",
            "The running loss at 331 iteration is: 0.0044807184474814875\n",
            "The running loss at 341 iteration is: 0.004325383880669151\n",
            "The running loss at 351 iteration is: 0.004190804772406348\n",
            "The running loss at 361 iteration is: 0.004071423631623226\n",
            "The running loss at 371 iteration is: 0.003963280358374238\n",
            "The running loss at 381 iteration is: 0.0038636734596420763\n",
            "The running loss at 391 iteration is: 0.0037710026802238415\n",
            "The running loss at 401 iteration is: 0.00368431486391437\n",
            "The running loss at 411 iteration is: 0.003603028838854519\n",
            "The running loss at 421 iteration is: 0.003526782887442571\n",
            "The running loss at 431 iteration is: 0.0034552250650765706\n",
            "The running loss at 441 iteration is: 0.003388007455132502\n",
            "The running loss at 451 iteration is: 0.003324739463416015\n",
            "The running loss at 461 iteration is: 0.0032649731241259222\n",
            "The running loss at 471 iteration is: 0.0032083475802377214\n",
            "The running loss at 481 iteration is: 0.003154429299677886\n",
            "The running loss at 491 iteration is: 0.003102941526315838\n",
            "The running loss at 501 iteration is: 0.00305351899039497\n",
            "The running loss at 511 iteration is: 0.0030059491252186522\n",
            "The running loss at 521 iteration is: 0.0029599840946741627\n",
            "The running loss at 531 iteration is: 0.002915454217018918\n",
            "The running loss at 541 iteration is: 0.0028722047849142045\n",
            "The running loss at 551 iteration is: 0.0028301300161988163\n",
            "The running loss at 561 iteration is: 0.0027891127659659233\n",
            "The running loss at 571 iteration is: 0.0027491145878982687\n",
            "The running loss at 581 iteration is: 0.0027100475149872925\n",
            "The running loss at 591 iteration is: 0.0026719239069276563\n",
            "The running loss at 601 iteration is: 0.0026346847217973415\n",
            "The running loss at 611 iteration is: 0.0025982956822493347\n",
            "The running loss at 621 iteration is: 0.0025627446098000764\n",
            "The running loss at 631 iteration is: 0.0025280414249179936\n",
            "The running loss at 641 iteration is: 0.002494148517438983\n",
            "The running loss at 651 iteration is: 0.002461098025103748\n",
            "The running loss at 661 iteration is: 0.002428865703717348\n",
            "The running loss at 671 iteration is: 0.002397794211748181\n",
            "The running loss at 681 iteration is: 0.0028673382558455744\n",
            "The running loss at 691 iteration is: 0.0035206517944274124\n",
            "The running loss at 701 iteration is: 0.002780925855049631\n",
            "The running loss at 711 iteration is: 0.0028117803645611003\n",
            "The running loss at 721 iteration is: 0.002267787138372417\n",
            "The running loss at 731 iteration is: 0.002295996839389097\n",
            "The running loss at 741 iteration is: 0.0022068029831275003\n",
            "The running loss at 751 iteration is: 0.002182298059181508\n",
            "The running loss at 761 iteration is: 0.0021566664156760854\n",
            "The running loss at 771 iteration is: 0.0021320385567599872\n",
            "The running loss at 781 iteration is: 0.0021100223636315303\n",
            "The running loss at 791 iteration is: 0.0020938636416615365\n",
            "The running loss at 801 iteration is: 0.002402275937216986\n",
            "The running loss at 811 iteration is: 0.0034838494605760905\n",
            "The running loss at 821 iteration is: 0.0027615046102358416\n",
            "The running loss at 831 iteration is: 0.0024056748300199907\n",
            "The running loss at 841 iteration is: 0.0020306524438022146\n",
            "The running loss at 851 iteration is: 0.0020709647739817726\n",
            "The running loss at 861 iteration is: 0.0020304775286333152\n",
            "The running loss at 871 iteration is: 0.0026889006317024327\n",
            "The running loss at 881 iteration is: 0.0023246607116456856\n",
            "The running loss at 891 iteration is: 0.00235461840394249\n",
            "The running loss at 901 iteration is: 0.0020557931809222206\n",
            "The running loss at 911 iteration is: 0.001858904725709841\n",
            "The running loss at 921 iteration is: 0.0018429975428258145\n",
            "The running loss at 931 iteration is: 0.002098118976030517\n",
            "The running loss at 941 iteration is: 0.0032595899494389027\n",
            "The running loss at 951 iteration is: 0.003002667502293052\n",
            "The running loss at 961 iteration is: 0.0022324029776372416\n",
            "The running loss at 971 iteration is: 0.0018092702233213345\n",
            "The running loss at 981 iteration is: 0.0018712998649540002\n",
            "The running loss at 991 iteration is: 0.001769579321334988\n",
            "The running loss at 1001 iteration is: 0.0019608080917609483\n",
            "The running loss at 1011 iteration is: 0.0041180723978626165\n",
            "The running loss at 1021 iteration is: 0.0018134201363900874\n",
            "The running loss at 1031 iteration is: 0.002127037694688627\n",
            "The running loss at 1041 iteration is: 0.0016617421114425435\n",
            "The running loss at 1051 iteration is: 0.0017493329934134883\n",
            "The running loss at 1061 iteration is: 0.0034196673336826947\n",
            "The running loss at 1071 iteration is: 0.0016970438778300648\n",
            "The running loss at 1081 iteration is: 0.002149481164300059\n",
            "The running loss at 1091 iteration is: 0.0018606267676789302\n",
            "The running loss at 1101 iteration is: 0.0016231466901757258\n",
            "The running loss at 1111 iteration is: 0.0017689201074351348\n",
            "The running loss at 1121 iteration is: 0.003471793053149525\n",
            "The running loss at 1131 iteration is: 0.0015741850716233885\n",
            "The running loss at 1141 iteration is: 0.002284528732634522\n",
            "The running loss at 1151 iteration is: 0.0016130840676949253\n",
            "The running loss at 1161 iteration is: 0.001512120174094699\n",
            "The running loss at 1171 iteration is: 0.0015324107303048913\n",
            "The running loss at 1181 iteration is: 0.0037810077438725\n",
            "The running loss at 1191 iteration is: 0.0014742120762214648\n",
            "The running loss at 1201 iteration is: 0.002201691804162932\n",
            "The running loss at 1211 iteration is: 0.0015473752639915891\n",
            "The running loss at 1221 iteration is: 0.001852339013106949\n",
            "The running loss at 1231 iteration is: 0.001795813308329122\n",
            "The running loss at 1241 iteration is: 0.002041937820385728\n",
            "The running loss at 1251 iteration is: 0.0021964602509426242\n",
            "The running loss at 1261 iteration is: 0.0016588489142521454\n",
            "The running loss at 1271 iteration is: 0.0016840164350859005\n",
            "The running loss at 1281 iteration is: 0.0026557973032498823\n",
            "The running loss at 1291 iteration is: 0.0016815108477869465\n",
            "The running loss at 1301 iteration is: 0.0013566846403348597\n",
            "The running loss at 1311 iteration is: 0.0014080686111150732\n",
            "The running loss at 1321 iteration is: 0.0029529233962157456\n",
            "The running loss at 1331 iteration is: 0.001419099384300358\n",
            "The running loss at 1341 iteration is: 0.002178224207415182\n",
            "The running loss at 1351 iteration is: 0.001463858962464971\n",
            "The running loss at 1361 iteration is: 0.0013057648812574963\n",
            "The running loss at 1371 iteration is: 0.0014727738792954408\n",
            "The running loss at 1381 iteration is: 0.0031874717978482513\n",
            "The running loss at 1391 iteration is: 0.001277607664751573\n",
            "The running loss at 1401 iteration is: 0.0019530443546289754\n",
            "The running loss at 1411 iteration is: 0.0016782646368908847\n",
            "The running loss at 1421 iteration is: 0.0013400309105029203\n",
            "The running loss at 1431 iteration is: 0.001526779554795752\n",
            "The running loss at 1441 iteration is: 0.0031537200489159555\n",
            "The running loss at 1451 iteration is: 0.0012801871127830246\n",
            "The running loss at 1461 iteration is: 0.0014408581265835806\n",
            "The running loss at 1471 iteration is: 0.0020994543645082124\n",
            "The running loss at 1481 iteration is: 0.0015132294901300412\n",
            "The running loss at 1491 iteration is: 0.0012357339188766936\n",
            "The running loss at 1501 iteration is: 0.0013114799411988475\n",
            "The running loss at 1511 iteration is: 0.002794986215827181\n",
            "The running loss at 1521 iteration is: 0.001279057044355234\n",
            "The running loss at 1531 iteration is: 0.001640380505668284\n",
            "The running loss at 1541 iteration is: 0.0016778459121315637\n",
            "The running loss at 1551 iteration is: 0.0012803159442102544\n",
            "The running loss at 1561 iteration is: 0.001356149928610096\n",
            "The running loss at 1571 iteration is: 0.00258830652741897\n",
            "The running loss at 1581 iteration is: 0.0014330807930043703\n",
            "The running loss at 1591 iteration is: 0.0011765775061130918\n",
            "The running loss at 1601 iteration is: 0.0016207150551496153\n",
            "The running loss at 1611 iteration is: 0.001995569328373848\n",
            "The running loss at 1621 iteration is: 0.0011715334505579202\n",
            "The running loss at 1631 iteration is: 0.0011071162969496424\n",
            "The running loss at 1641 iteration is: 0.0012226419944587918\n",
            "The running loss at 1651 iteration is: 0.003621450534289052\n",
            "The running loss at 1661 iteration is: 0.00109822922241688\n",
            "The running loss at 1671 iteration is: 0.0016363048307643483\n",
            "The running loss at 1681 iteration is: 0.0011685817260446442\n",
            "The running loss at 1691 iteration is: 0.0010707566193368673\n",
            "The running loss at 1701 iteration is: 0.0011463843753049363\n",
            "The running loss at 1711 iteration is: 0.0027397247792444214\n",
            "The running loss at 1721 iteration is: 0.0012878593771599323\n",
            "The running loss at 1731 iteration is: 0.0014490290031086142\n",
            "The running loss at 1741 iteration is: 0.0012577454340737195\n",
            "The running loss at 1751 iteration is: 0.0010489962173044767\n",
            "The running loss at 1761 iteration is: 0.0010336956033693962\n",
            "The running loss at 1771 iteration is: 0.0010662395331430133\n",
            "The running loss at 1781 iteration is: 0.002776410766254227\n",
            "The running loss at 1791 iteration is: 0.0010428159054149664\n",
            "The running loss at 1801 iteration is: 0.0017087177573916102\n",
            "The running loss at 1811 iteration is: 0.0010836856762926061\n",
            "The running loss at 1821 iteration is: 0.001141182636474212\n",
            "The running loss at 1831 iteration is: 0.0010254996253194104\n",
            "The running loss at 1841 iteration is: 0.0010423411977764844\n",
            "The running loss at 1851 iteration is: 0.0017334977115110882\n",
            "The running loss at 1861 iteration is: 0.0017583375987964267\n",
            "The running loss at 1871 iteration is: 0.0012625725923647525\n",
            "The running loss at 1881 iteration is: 0.001209441896352133\n",
            "The running loss at 1891 iteration is: 0.0009706073567083522\n",
            "The running loss at 1901 iteration is: 0.0009940434053894857\n",
            "The running loss at 1911 iteration is: 0.0014233351753909732\n",
            "The running loss at 1921 iteration is: 0.0022398252343176755\n",
            "The running loss at 1931 iteration is: 0.0010887925937636933\n",
            "The running loss at 1941 iteration is: 0.001261773486360287\n",
            "The running loss at 1951 iteration is: 0.0009519575654305151\n",
            "The running loss at 1961 iteration is: 0.0009538275494880232\n",
            "The running loss at 1971 iteration is: 0.0011704085452726447\n",
            "The running loss at 1981 iteration is: 0.002718918889727595\n",
            "The running loss at 1991 iteration is: 0.0009557202570454402\n"
          ]
        },
        {
          "data": {
            "image/png": "[encoded data removed]",
            "text/plain": [
              "<Figure size 432x288 with 1 Axes>"
            ]
          },
          "metadata": {},
          "output_type": "display_data"
        },
        {
          "data": {
            "image/png": "[encoded data removed]",
            "text/plain": [
              "<Figure size 432x288 with 1 Axes>"
            ]
          },
          "metadata": {},
          "output_type": "display_data"
        },
        {
          "name": "stdout",
          "output_type": "stream",
          "text": [
            "0.0005036170820984121\n",
            "The running loss at 1 iteration is: 0.0013146071625345567\n",
            "The running loss at 11 iteration is: 0.0022227620245612078\n",
            "The running loss at 21 iteration is: 0.0014911711499621177\n",
            "The running loss at 31 iteration is: 0.0011008813514197442\n",
            "The running loss at 41 iteration is: 0.0009689774395595496\n",
            "The running loss at 51 iteration is: 0.0009179836862009307\n",
            "The running loss at 61 iteration is: 0.0008882257917540051\n",
            "The running loss at 71 iteration is: 0.000876028268316733\n",
            "The running loss at 81 iteration is: 0.0008710147652589692\n",
            "The running loss at 91 iteration is: 0.0008634381499415697\n",
            "The running loss at 101 iteration is: 0.0008574555954502347\n",
            "The running loss at 111 iteration is: 0.0008512200102813635\n",
            "The running loss at 121 iteration is: 0.0008451915825267192\n",
            "The running loss at 131 iteration is: 0.0008392025032835396\n",
            "The running loss at 141 iteration is: 0.0008332570670289057\n",
            "The running loss at 151 iteration is: 0.00082732622442674\n",
            "The running loss at 161 iteration is: 0.0008214486897570386\n",
            "The running loss at 171 iteration is: 0.0008155773759722402\n",
            "The running loss at 181 iteration is: 0.0008097528889544903\n",
            "The running loss at 191 iteration is: 0.0008039612865620562\n",
            "The running loss at 201 iteration is: 0.0007982037974519682\n",
            "The running loss at 211 iteration is: 0.0007924908988008586\n",
            "The running loss at 221 iteration is: 0.0007868223216451265\n",
            "The running loss at 231 iteration is: 0.0007812123109532327\n",
            "The running loss at 241 iteration is: 0.0007756595740919707\n",
            "The running loss at 251 iteration is: 0.0007701586841126343\n",
            "The running loss at 261 iteration is: 0.0007647363643908544\n",
            "The running loss at 271 iteration is: 0.0007593485145520661\n",
            "The running loss at 281 iteration is: 0.0007540322663302691\n",
            "The running loss at 291 iteration is: 0.0007487772684599738\n",
            "The running loss at 301 iteration is: 0.0007436202681385102\n",
            "The running loss at 311 iteration is: 0.0007385211223432855\n",
            "The running loss at 321 iteration is: 0.0007334936066573388\n",
            "The running loss at 331 iteration is: 0.0007285645827474695\n",
            "The running loss at 341 iteration is: 0.0007236921461291773\n",
            "The running loss at 351 iteration is: 0.0007189266634116574\n",
            "The running loss at 361 iteration is: 0.0007142643386391\n",
            "The running loss at 371 iteration is: 0.0007096844555403465\n",
            "The running loss at 381 iteration is: 0.0007051883552462551\n",
            "The running loss at 391 iteration is: 0.0007008088726686521\n",
            "The running loss at 401 iteration is: 0.0006965348041057216\n",
            "The running loss at 411 iteration is: 0.0006923462365881467\n",
            "The running loss at 421 iteration is: 0.000688271164225271\n",
            "The running loss at 431 iteration is: 0.0006842857892260339\n",
            "The running loss at 441 iteration is: 0.0006804113348731573\n",
            "The running loss at 451 iteration is: 0.0006766314333088699\n",
            "The running loss at 461 iteration is: 0.0006729596527692452\n",
            "The running loss at 471 iteration is: 0.0006693883127958343\n",
            "The running loss at 481 iteration is: 0.0006658977279991045\n",
            "The running loss at 491 iteration is: 0.0006625027592870245\n",
            "The running loss at 501 iteration is: 0.0006591986502011706\n",
            "The running loss at 511 iteration is: 0.0006559720188610993\n",
            "The running loss at 521 iteration is: 0.0006528451490347557\n",
            "The running loss at 531 iteration is: 0.0006497871606334927\n",
            "The running loss at 541 iteration is: 0.000646800683980205\n",
            "The running loss at 551 iteration is: 0.0006439100488675984\n",
            "The running loss at 561 iteration is: 0.0006410793463763042\n",
            "The running loss at 571 iteration is: 0.0006383127421326412\n",
            "The running loss at 581 iteration is: 0.0006356228239130352\n",
            "The running loss at 591 iteration is: 0.000633006025570278\n",
            "The running loss at 601 iteration is: 0.0006304356390104662\n",
            "The running loss at 611 iteration is: 0.0006279319672683646\n",
            "The running loss at 621 iteration is: 0.0006254849910770955\n",
            "The running loss at 631 iteration is: 0.0006230810626655543\n",
            "The running loss at 641 iteration is: 0.0006207387955807476\n",
            "The running loss at 651 iteration is: 0.0006184420560308903\n",
            "The running loss at 661 iteration is: 0.0006161924625731288\n",
            "The running loss at 671 iteration is: 0.0006139963388699088\n",
            "The running loss at 681 iteration is: 0.0006118224678401655\n",
            "The running loss at 691 iteration is: 0.0006097169388978204\n",
            "The running loss at 701 iteration is: 0.0006138328743033829\n",
            "The running loss at 711 iteration is: 0.0006075865106945808\n",
            "The running loss at 721 iteration is: 0.0006038837076910576\n",
            "The running loss at 731 iteration is: 0.0006016492203116523\n",
            "The running loss at 741 iteration is: 0.0005997225395216286\n",
            "The running loss at 751 iteration is: 0.0005978027053410751\n",
            "The running loss at 761 iteration is: 0.0005959273361948168\n",
            "The running loss at 771 iteration is: 0.0005940390713339619\n",
            "The running loss at 781 iteration is: 0.0005921905266360382\n",
            "The running loss at 791 iteration is: 0.0005903622145860775\n",
            "The running loss at 801 iteration is: 0.0005885586790432933\n",
            "The running loss at 811 iteration is: 0.0005871239759958939\n",
            "The running loss at 821 iteration is: 0.0005850991093415984\n",
            "The running loss at 831 iteration is: 0.0005838740091855083\n",
            "The running loss at 841 iteration is: 0.0005820036293780744\n",
            "The running loss at 851 iteration is: 0.0005801661280511246\n",
            "The running loss at 861 iteration is: 0.0005782049095525521\n",
            "The running loss at 871 iteration is: 0.0005765042316336448\n",
            "The running loss at 881 iteration is: 0.0005747678509902283\n",
            "The running loss at 891 iteration is: 0.0005730783522257228\n",
            "The running loss at 901 iteration is: 0.0005714103727405457\n",
            "The running loss at 911 iteration is: 0.0005698224722533428\n",
            "The running loss at 921 iteration is: 0.000582219344128303\n",
            "The running loss at 931 iteration is: 0.0005676273745795176\n",
            "The running loss at 941 iteration is: 0.000566953942779084\n",
            "The running loss at 951 iteration is: 0.0005635552802522045\n",
            "The running loss at 961 iteration is: 0.0005618118804684205\n",
            "The running loss at 971 iteration is: 0.0005599898468480754\n",
            "The running loss at 981 iteration is: 0.0005583546446871429\n",
            "The running loss at 991 iteration is: 0.0005567341982661502\n",
            "The running loss at 1001 iteration is: 0.0005550831000920841\n",
            "The running loss at 1011 iteration is: 0.000553891985145467\n",
            "The running loss at 1021 iteration is: 0.0005813023146045679\n",
            "The running loss at 1031 iteration is: 0.0005503892513117809\n",
            "The running loss at 1041 iteration is: 0.0005511206521581067\n",
            "The running loss at 1051 iteration is: 0.0005480582072649477\n",
            "The running loss at 1061 iteration is: 0.0005458513219318893\n",
            "The running loss at 1071 iteration is: 0.0005440152556758656\n",
            "The running loss at 1081 iteration is: 0.0005424294002175251\n",
            "The running loss at 1091 iteration is: 0.0005408119270826997\n",
            "The running loss at 1101 iteration is: 0.0005392401505689255\n",
            "The running loss at 1111 iteration is: 0.0005380479395074838\n",
            "The running loss at 1121 iteration is: 0.0005639177528551251\n",
            "The running loss at 1131 iteration is: 0.0005518307952815318\n",
            "The running loss at 1141 iteration is: 0.0005332044685074013\n",
            "The running loss at 1151 iteration is: 0.0005332400709981934\n",
            "The running loss at 1161 iteration is: 0.0005306761652891358\n",
            "The running loss at 1171 iteration is: 0.000528508951694529\n",
            "The running loss at 1181 iteration is: 0.0005268710001718226\n",
            "The running loss at 1191 iteration is: 0.0005251684523148847\n",
            "The running loss at 1201 iteration is: 0.0005237774305407304\n",
            "The running loss at 1211 iteration is: 0.0005280211987779832\n",
            "The running loss at 1221 iteration is: 0.0005394332420321345\n",
            "The running loss at 1231 iteration is: 0.000519196386435297\n",
            "The running loss at 1241 iteration is: 0.0005217082263861343\n",
            "The running loss at 1251 iteration is: 0.000517730501481169\n",
            "The running loss at 1261 iteration is: 0.0005149614030779575\n",
            "The running loss at 1271 iteration is: 0.0005131764196974519\n",
            "The running loss at 1281 iteration is: 0.0005113188687805135\n",
            "The running loss at 1291 iteration is: 0.0005099840069441511\n",
            "The running loss at 1301 iteration is: 0.0005116650744571305\n",
            "The running loss at 1311 iteration is: 0.0005723607335540946\n",
            "The running loss at 1321 iteration is: 0.00052348610839802\n",
            "The running loss at 1331 iteration is: 0.0005046142138055362\n",
            "The running loss at 1341 iteration is: 0.0005024165164798419\n",
            "The running loss at 1351 iteration is: 0.0005009680253672366\n",
            "The running loss at 1361 iteration is: 0.0004991981834339236\n",
            "The running loss at 1371 iteration is: 0.0004978486318953966\n",
            "The running loss at 1381 iteration is: 0.0004961470105242993\n",
            "The running loss at 1391 iteration is: 0.0004949516236976959\n",
            "The running loss at 1401 iteration is: 0.0005089596041793626\n",
            "The running loss at 1411 iteration is: 0.0005002783543474465\n",
            "The running loss at 1421 iteration is: 0.0005049182098128864\n",
            "The running loss at 1431 iteration is: 0.0004932884632393291\n",
            "The running loss at 1441 iteration is: 0.00048807489134253376\n",
            "The running loss at 1451 iteration is: 0.0004871868288519732\n",
            "The running loss at 1461 iteration is: 0.0004849420146752001\n",
            "The running loss at 1471 iteration is: 0.0004832142530193396\n",
            "The running loss at 1481 iteration is: 0.0004816566732639\n",
            "The running loss at 1491 iteration is: 0.00048009035212910313\n",
            "The running loss at 1501 iteration is: 0.0004786370019993304\n",
            "The running loss at 1511 iteration is: 0.0004774910469816558\n",
            "The running loss at 1521 iteration is: 0.0004925820019459647\n",
            "The running loss at 1531 iteration is: 0.0004929398294803117\n",
            "The running loss at 1541 iteration is: 0.0004875910675307008\n",
            "The running loss at 1551 iteration is: 0.00047738574825314975\n",
            "The running loss at 1561 iteration is: 0.0004710488632808611\n",
            "The running loss at 1571 iteration is: 0.00047016721274424406\n",
            "The running loss at 1581 iteration is: 0.00046756461682047475\n",
            "The running loss at 1591 iteration is: 0.0004658785092369595\n",
            "The running loss at 1601 iteration is: 0.000464439062580375\n",
            "The running loss at 1611 iteration is: 0.0004629876004726678\n",
            "The running loss at 1621 iteration is: 0.0004614883527389322\n",
            "The running loss at 1631 iteration is: 0.00046005007451818827\n",
            "The running loss at 1641 iteration is: 0.00045885858329653236\n",
            "The running loss at 1651 iteration is: 0.0004738776755880082\n",
            "The running loss at 1661 iteration is: 0.0004896873970678586\n",
            "The running loss at 1671 iteration is: 0.0004735268855704503\n",
            "The running loss at 1681 iteration is: 0.00045748134319614894\n",
            "The running loss at 1691 iteration is: 0.00045481148873344294\n",
            "The running loss at 1701 iteration is: 0.00045121385585739754\n",
            "The running loss at 1711 iteration is: 0.00044890908960076414\n",
            "The running loss at 1721 iteration is: 0.0004476320062328137\n",
            "The running loss at 1731 iteration is: 0.00044614903300959437\n",
            "The running loss at 1741 iteration is: 0.0004446645024636654\n",
            "The running loss at 1751 iteration is: 0.0004432072617952832\n",
            "The running loss at 1761 iteration is: 0.0004417674129559058\n",
            "The running loss at 1771 iteration is: 0.00044030903860471106\n",
            "The running loss at 1781 iteration is: 0.00043884248298381743\n",
            "The running loss at 1791 iteration is: 0.0004373652404017288\n",
            "The running loss at 1801 iteration is: 0.00043588279266854946\n",
            "The running loss at 1811 iteration is: 0.00043531026721968963\n",
            "The running loss at 1821 iteration is: 0.0007612155557368893\n",
            "The running loss at 1831 iteration is: 0.00046016609174038235\n",
            "The running loss at 1841 iteration is: 0.0004676335063615894\n",
            "The running loss at 1851 iteration is: 0.00044212522362115916\n",
            "The running loss at 1861 iteration is: 0.00042842608169458657\n",
            "The running loss at 1871 iteration is: 0.00042694519646852675\n",
            "The running loss at 1881 iteration is: 0.00042578421273676615\n",
            "The running loss at 1891 iteration is: 0.00042424506933896584\n",
            "The running loss at 1901 iteration is: 0.0004227551818939282\n",
            "The running loss at 1911 iteration is: 0.00042134440409686516\n",
            "The running loss at 1921 iteration is: 0.00041997719265323807\n",
            "The running loss at 1931 iteration is: 0.0004186094207719502\n",
            "The running loss at 1941 iteration is: 0.00041723169360190226\n",
            "The running loss at 1951 iteration is: 0.0004158526952478263\n",
            "The running loss at 1961 iteration is: 0.0004144637852825803\n",
            "The running loss at 1971 iteration is: 0.0004130597391956943\n",
            "The running loss at 1981 iteration is: 0.0004116513486645873\n",
            "The running loss at 1991 iteration is: 0.00041021395704553243\n"
          ]
        },
        {
          "data": {
            "image/png": "[encoded data removed]",
            "text/plain": [
              "<Figure size 432x288 with 1 Axes>"
            ]
          },
          "metadata": {},
          "output_type": "display_data"
        },
        {
          "data": {
            "image/png": "[encoded data removed]",
            "text/plain": [
              "<Figure size 432x288 with 1 Axes>"
            ]
          },
          "metadata": {},
          "output_type": "display_data"
        },
        {
          "name": "stdout",
          "output_type": "stream",
          "text": [
            "7.09656486932328e-05\n",
            "The running loss at 1 iteration is: 0.0004087803697189748\n",
            "The running loss at 11 iteration is: 0.00041491238713610456\n",
            "The running loss at 21 iteration is: 0.0004081253983588853\n",
            "The running loss at 31 iteration is: 0.0004084981445486987\n",
            "The running loss at 41 iteration is: 0.0004075613970815437\n",
            "The running loss at 51 iteration is: 0.00040705673495415503\n",
            "The running loss at 61 iteration is: 0.00040672732681962227\n",
            "The running loss at 71 iteration is: 0.0004063832002129203\n",
            "The running loss at 81 iteration is: 0.0004060275074558525\n",
            "The running loss at 91 iteration is: 0.0004056308984228045\n",
            "The running loss at 101 iteration is: 0.0004052310942131344\n",
            "The running loss at 111 iteration is: 0.0004048201464078808\n",
            "The running loss at 121 iteration is: 0.00040438712045101725\n",
            "The running loss at 131 iteration is: 0.0004039546105837277\n",
            "The running loss at 141 iteration is: 0.0004034830984503807\n",
            "The running loss at 151 iteration is: 0.00040300163645134903\n",
            "The running loss at 161 iteration is: 0.00040250875402928984\n",
            "The running loss at 171 iteration is: 0.0004020132415328868\n",
            "The running loss at 181 iteration is: 0.00040148411664338844\n",
            "The running loss at 191 iteration is: 0.0004009540668412651\n",
            "The running loss at 201 iteration is: 0.00040041111563566455\n",
            "The running loss at 211 iteration is: 0.00039986090982753046\n",
            "The running loss at 221 iteration is: 0.00039928674897372787\n",
            "The running loss at 231 iteration is: 0.0003987097820719817\n",
            "The running loss at 241 iteration is: 0.00039812853673947175\n",
            "The running loss at 251 iteration is: 0.0003975146340284677\n",
            "The running loss at 261 iteration is: 0.0003968980650096717\n",
            "The running loss at 271 iteration is: 0.0003962725589493869\n",
            "The running loss at 281 iteration is: 0.00039564507284655813\n",
            "The running loss at 291 iteration is: 0.00039500121442788416\n",
            "The running loss at 301 iteration is: 0.0003943448576128163\n",
            "The running loss at 311 iteration is: 0.0003936763190038674\n",
            "The running loss at 321 iteration is: 0.0003930090230600609\n",
            "The running loss at 331 iteration is: 0.00039231210931854236\n",
            "The running loss at 341 iteration is: 0.00039162818504737324\n",
            "The running loss at 351 iteration is: 0.0003909228346517488\n",
            "The running loss at 361 iteration is: 0.00039020003749695313\n",
            "The running loss at 371 iteration is: 0.00038948484251723843\n",
            "The running loss at 381 iteration is: 0.0003887500617804858\n",
            "The running loss at 391 iteration is: 0.00038801228963807055\n",
            "The running loss at 401 iteration is: 0.0003872652900014494\n",
            "The running loss at 411 iteration is: 0.00038650193491517797\n",
            "The running loss at 421 iteration is: 0.00038573923698694544\n",
            "The running loss at 431 iteration is: 0.0003849787031451257\n",
            "The running loss at 441 iteration is: 0.0003841851771616737\n",
            "The running loss at 451 iteration is: 0.00038340434563404195\n",
            "The running loss at 461 iteration is: 0.0003826120618631734\n",
            "The running loss at 471 iteration is: 0.0003818169823234595\n",
            "The running loss at 481 iteration is: 0.000381004896874733\n",
            "The running loss at 491 iteration is: 0.000380187246010757\n",
            "The running loss at 501 iteration is: 0.00037935690135115503\n",
            "The running loss at 511 iteration is: 0.00037852451535458955\n",
            "The running loss at 521 iteration is: 0.0003776974123172856\n",
            "The running loss at 531 iteration is: 0.00037685313439349624\n",
            "The running loss at 541 iteration is: 0.0003760054449387454\n",
            "The running loss at 551 iteration is: 0.00037515253982170146\n",
            "The running loss at 561 iteration is: 0.000374286384095365\n",
            "The running loss at 571 iteration is: 0.00037342137058555506\n",
            "The running loss at 581 iteration is: 0.0003725405838047089\n",
            "The running loss at 591 iteration is: 0.00037167080017999886\n",
            "The running loss at 601 iteration is: 0.00037078959021161456\n",
            "The running loss at 611 iteration is: 0.0003698979357337524\n",
            "The running loss at 621 iteration is: 0.0003690192483501875\n",
            "The running loss at 631 iteration is: 0.00036812101560398106\n",
            "The running loss at 641 iteration is: 0.00036722528917139017\n",
            "The running loss at 651 iteration is: 0.0003663214237323113\n",
            "The running loss at 661 iteration is: 0.00036541257440061086\n",
            "The running loss at 671 iteration is: 0.00036449758421068154\n",
            "The running loss at 681 iteration is: 0.00036359062498009476\n",
            "The running loss at 691 iteration is: 0.00036267304627185987\n",
            "The running loss at 701 iteration is: 0.00036175299366169775\n",
            "The running loss at 711 iteration is: 0.0003608274693404029\n",
            "The running loss at 721 iteration is: 0.0003599023149729105\n",
            "The running loss at 731 iteration is: 0.0003589767857305764\n",
            "The running loss at 741 iteration is: 0.00035803522492795694\n",
            "The running loss at 751 iteration is: 0.0003571160608300565\n",
            "The running loss at 761 iteration is: 0.000356185057493815\n",
            "The running loss at 771 iteration is: 0.0003552454458246854\n",
            "The running loss at 781 iteration is: 0.0003543085571475515\n",
            "The running loss at 791 iteration is: 0.0003533745862598882\n",
            "The running loss at 801 iteration is: 0.00035242505162878725\n",
            "The running loss at 811 iteration is: 0.0003514924944434097\n",
            "The running loss at 821 iteration is: 0.00035055624347339723\n",
            "The running loss at 831 iteration is: 0.0003496143485137006\n",
            "The running loss at 841 iteration is: 0.0003486800093711104\n",
            "The running loss at 851 iteration is: 0.000347732539463594\n",
            "The running loss at 861 iteration is: 0.00034678711849296705\n",
            "The running loss at 871 iteration is: 0.0003458578126248283\n",
            "The running loss at 881 iteration is: 0.0003449290594358097\n",
            "The running loss at 891 iteration is: 0.0003439859786599983\n",
            "The running loss at 901 iteration is: 0.0003430575751244139\n",
            "The running loss at 911 iteration is: 0.00034575168919057363\n",
            "The running loss at 921 iteration is: 0.0003422932572359638\n",
            "The running loss at 931 iteration is: 0.0003406121942000997\n",
            "The running loss at 941 iteration is: 0.0003396170198638027\n",
            "The running loss at 951 iteration is: 0.000338809084746352\n",
            "The running loss at 961 iteration is: 0.0003379185675322638\n",
            "The running loss at 971 iteration is: 0.0003370879065327585\n",
            "The running loss at 981 iteration is: 0.0003362586315848003\n",
            "The running loss at 991 iteration is: 0.00033543989954213586\n",
            "The running loss at 1001 iteration is: 0.0003346202525828168\n",
            "The running loss at 1011 iteration is: 0.0003337827098061418\n",
            "The running loss at 1021 iteration is: 0.0003329656310512234\n",
            "The running loss at 1031 iteration is: 0.00033215191506474147\n",
            "The running loss at 1041 iteration is: 0.00033132910734519485\n",
            "The running loss at 1051 iteration is: 0.00033052118459562065\n",
            "The running loss at 1061 iteration is: 0.00032970942627716046\n",
            "The running loss at 1071 iteration is: 0.0003289012602033386\n",
            "The running loss at 1081 iteration is: 0.0003280978314248133\n",
            "The running loss at 1091 iteration is: 0.0003273025495963711\n",
            "The running loss at 1101 iteration is: 0.00032649475225690383\n",
            "The running loss at 1111 iteration is: 0.0003256971039338028\n",
            "The running loss at 1121 iteration is: 0.00032491343915767986\n",
            "The running loss at 1131 iteration is: 0.00032413404992821175\n",
            "The running loss at 1141 iteration is: 0.000323348702472979\n",
            "The running loss at 1151 iteration is: 0.0003226646590711547\n",
            "The running loss at 1161 iteration is: 0.00032299950112530274\n",
            "The running loss at 1171 iteration is: 0.0003211009061921975\n",
            "The running loss at 1181 iteration is: 0.0003204351591480691\n",
            "The running loss at 1191 iteration is: 0.00031963828764586575\n",
            "The running loss at 1201 iteration is: 0.0003188855267876379\n",
            "The running loss at 1211 iteration is: 0.00031816789021133336\n",
            "The running loss at 1221 iteration is: 0.00031745960977027244\n",
            "The running loss at 1231 iteration is: 0.00031675335143868704\n",
            "The running loss at 1241 iteration is: 0.0003160370437421182\n",
            "The running loss at 1251 iteration is: 0.0003153477508336962\n",
            "The running loss at 1261 iteration is: 0.0003146522404200798\n",
            "The running loss at 1271 iteration is: 0.000313961941889832\n",
            "The running loss at 1281 iteration is: 0.0003132812178271181\n",
            "The running loss at 1291 iteration is: 0.0003125977587087734\n",
            "The running loss at 1301 iteration is: 0.00031192235888829914\n",
            "The running loss at 1311 iteration is: 0.00031131030268429763\n",
            "The running loss at 1321 iteration is: 0.0003125689232532531\n",
            "The running loss at 1331 iteration is: 0.0003104742328224971\n",
            "The running loss at 1341 iteration is: 0.0003094408512968886\n",
            "The running loss at 1351 iteration is: 0.0003087522147945453\n",
            "The running loss at 1361 iteration is: 0.00030812099254068966\n",
            "The running loss at 1371 iteration is: 0.000307520828340536\n",
            "The running loss at 1381 iteration is: 0.00030691896972083715\n",
            "The running loss at 1391 iteration is: 0.00030632863018043916\n",
            "The running loss at 1401 iteration is: 0.00030572383561102415\n",
            "The running loss at 1411 iteration is: 0.0003051423074180794\n",
            "The running loss at 1421 iteration is: 0.00030456038365763967\n",
            "The running loss at 1431 iteration is: 0.00030397964093344435\n",
            "The running loss at 1441 iteration is: 0.00030340010781294835\n",
            "The running loss at 1451 iteration is: 0.0003028388012551418\n",
            "The running loss at 1461 iteration is: 0.00030227131709791033\n",
            "The running loss at 1471 iteration is: 0.00030170705242022616\n",
            "The running loss at 1481 iteration is: 0.0003011500695496499\n",
            "The running loss at 1491 iteration is: 0.000300588931828301\n",
            "The running loss at 1501 iteration is: 0.000300047296333717\n",
            "The running loss at 1511 iteration is: 0.000299530957215688\n",
            "The running loss at 1521 iteration is: 0.0003001521422008425\n",
            "The running loss at 1531 iteration is: 0.0002991286607898284\n",
            "The running loss at 1541 iteration is: 0.0002979368618224387\n",
            "The running loss at 1551 iteration is: 0.00029750681449415236\n",
            "The running loss at 1561 iteration is: 0.00029690714287728054\n",
            "The running loss at 1571 iteration is: 0.0002964302955549854\n",
            "The running loss at 1581 iteration is: 0.0002959200155941972\n",
            "The running loss at 1591 iteration is: 0.00029541969673885297\n",
            "The running loss at 1601 iteration is: 0.0002949314800140645\n",
            "The running loss at 1611 iteration is: 0.00029444235670258924\n",
            "The running loss at 1621 iteration is: 0.0002939607330977324\n",
            "The running loss at 1631 iteration is: 0.0002934812758901661\n",
            "The running loss at 1641 iteration is: 0.00029301080042034287\n",
            "The running loss at 1651 iteration is: 0.00029253940111395935\n",
            "The running loss at 1661 iteration is: 0.0002920692430667906\n",
            "The running loss at 1671 iteration is: 0.0002915991491274542\n",
            "The running loss at 1681 iteration is: 0.00029152012512363614\n",
            "The running loss at 1691 iteration is: 0.0002907237171649387\n",
            "The running loss at 1701 iteration is: 0.0002905677901267902\n",
            "The running loss at 1711 iteration is: 0.00028996438073848857\n",
            "The running loss at 1721 iteration is: 0.0002893778300360541\n",
            "The running loss at 1731 iteration is: 0.0002889537457639021\n",
            "The running loss at 1741 iteration is: 0.0002885249742912463\n",
            "The running loss at 1751 iteration is: 0.00028808980609587576\n",
            "The running loss at 1761 iteration is: 0.000287665312320151\n",
            "The running loss at 1771 iteration is: 0.00028725285126493056\n",
            "The running loss at 1781 iteration is: 0.00028682831477637216\n",
            "The running loss at 1791 iteration is: 0.0002864073984590351\n",
            "The running loss at 1801 iteration is: 0.0002860097479022872\n",
            "The running loss at 1811 iteration is: 0.0002855942172762712\n",
            "The running loss at 1821 iteration is: 0.0002851855197714305\n",
            "The running loss at 1831 iteration is: 0.000284775493781507\n",
            "The running loss at 1841 iteration is: 0.00028437971537016054\n",
            "The running loss at 1851 iteration is: 0.000283979259513176\n",
            "The running loss at 1861 iteration is: 0.00028357318587045484\n",
            "The running loss at 1871 iteration is: 0.00028320132080553813\n",
            "The running loss at 1881 iteration is: 0.00028441445218757474\n",
            "The running loss at 1891 iteration is: 0.0002832529975108585\n",
            "The running loss at 1901 iteration is: 0.00028214941742941133\n",
            "The running loss at 1911 iteration is: 0.0002816549180863043\n",
            "The running loss at 1921 iteration is: 0.00028130777498897394\n",
            "The running loss at 1931 iteration is: 0.00028090140965871804\n",
            "The running loss at 1941 iteration is: 0.000280535272234874\n",
            "The running loss at 1951 iteration is: 0.00028015624493605515\n",
            "The running loss at 1961 iteration is: 0.00027978986070633456\n",
            "The running loss at 1971 iteration is: 0.0002794332990311751\n",
            "The running loss at 1981 iteration is: 0.0002790569967608544\n",
            "The running loss at 1991 iteration is: 0.00027869568588405845\n"
          ]
        },
        {
          "data": {
            "image/png": "[encoded data removed]",
            "text/plain": [
              "<Figure size 432x288 with 1 Axes>"
            ]
          },
          "metadata": {},
          "output_type": "display_data"
        },
        {
          "data": {
            "image/png": "[encoded data removed]",
            "text/plain": [
              "<Figure size 432x288 with 1 Axes>"
            ]
          },
          "metadata": {},
          "output_type": "display_data"
        },
        {
          "name": "stdout",
          "output_type": "stream",
          "text": [
            "6.256487283441884e-05\n",
            "Time = 192.21327805519104\n"
          ]
        }
      ],
      "source": [
        "time0 = time()\n",
        "run_train(lr=0.1, num_e= 2000)\n",
        "run_train(lr=0.01, num_e= 2000)\n",
        "run_train(lr=0.001, num_e= 2000)\n",
        "print(f\"Time = {time() - time0}\")"
      ]
    },
    {
      "cell_type": "code",
      "execution_count": null,
      "metadata": {
        "colab": {
          "background_save": true
        },
        "id": "6n6igUNwbr7s"
      },
      "outputs": [],
      "source": [
        "# run_train(lr=0.005, num_e= 1000)\n",
        "# run_train(lr=0.005, num_e= 1000)\n",
        "# run_train(lr=0.005, num_e= 1000)"
      ]
    },
    {
      "cell_type": "code",
      "execution_count": null,
      "metadata": {
        "colab": {
          "background_save": true
        },
        "id": "SYadZRcw0TVB",
        "outputId": "9db174f6-fad6-4a1f-9b41-249cbf6111f9"
      },
      "outputs": [
        {
          "name": "stdout",
          "output_type": "stream",
          "text": [
            "Drive already mounted at /content/drive; to attempt to forcibly remount, call drive.mount(\"/content/drive\", force_remount=True).\n"
          ]
        }
      ],
      "source": [
        "from google.colab import drive\n",
        "drive.mount('/content/drive')"
      ]
    },
    {
      "cell_type": "code",
      "execution_count": null,
      "metadata": {
        "colab": {
          "background_save": true
        },
        "id": "uBsYrR_QHC0q"
      },
      "outputs": [],
      "source": [
        "# save weights\n",
        "filepath = '/content/drive/My Drive/Colab Notebooks/Project_PINNs/weight_working_ex02-finite-difference-mod01.txt'\n",
        "torch.save(model.state_dict(), filepath)"
      ]
    },
    {
      "cell_type": "code",
      "execution_count": null,
      "metadata": {
        "colab": {
          "background_save": true
        },
        "id": "1gm6SynA4Ufq",
        "outputId": "b2d00fb2-cf9a-4599-86cf-7d2d4bf3b72f"
      },
      "outputs": [
        {
          "data": {
            "text/plain": [
              "Sequential(\n",
              "  (0): Linear(in_features=1, out_features=10, bias=True)\n",
              "  (1): Tanh()\n",
              "  (2): Linear(in_features=10, out_features=1, bias=True)\n",
              "  (3): Tanh()\n",
              ")"
            ]
          },
          "execution_count": null,
          "metadata": {},
          "output_type": "execute_result"
        }
      ],
      "source": [
        "# #Later to restore:\n",
        "model.load_state_dict(torch.load(filepath))\n",
        "model.eval()"
      ]
    },
    {
      "cell_type": "code",
      "execution_count": null,
      "metadata": {
        "colab": {
          "background_save": true
        },
        "id": "CDTic9mj5Xec"
      },
      "outputs": [],
      "source": [
        "def evaluate_np(x_data_np):\n",
        "    u_hat = []\n",
        "    for x in x_data_np:\n",
        "        x_tensor = torch.tensor(np.array([x]), requires_grad= True)\n",
        "        temp = model(x_tensor.float())\n",
        "        u_hat.append(temp.clone().item())\n",
        "    return u_hat"
      ]
    },
    {
      "cell_type": "code",
      "execution_count": null,
      "metadata": {
        "colab": {
          "background_save": true
        },
        "id": "9uoUTEaZ7DJz"
      },
      "outputs": [],
      "source": [
        "def evaluate_error_np(x_data_np):\n",
        "    y_pred = evaluate_np(x_data_np)\n",
        "    y_true = u_star_func(x_data_np)\n",
        "    return np.mean(np.square(y_true -  y_pred))"
      ]
    },
    {
      "cell_type": "code",
      "execution_count": null,
      "metadata": {
        "colab": {
          "background_save": true
        },
        "id": "EQ7z_1NV4_LG",
        "outputId": "95ba5786-b0f2-4065-cae2-a77cbc9597f6"
      },
      "outputs": [
        {
          "data": {
            "image/png": "[encoded data removed]",
            "text/plain": [
              "<Figure size 432x288 with 1 Axes>"
            ]
          },
          "metadata": {},
          "output_type": "display_data"
        },
        {
          "data": {
            "text/plain": [
              "6.196864891391577e-05"
            ]
          },
          "execution_count": null,
          "metadata": {},
          "output_type": "execute_result"
        }
      ],
      "source": [
        "x_init_np2 = np.arange(start=a, stop=b+step/2, step=step/2)\n",
        "x_init2 = torch.tensor(x_init_np2, requires_grad= True)\n",
        "y_pred2 = evaluate_np(x_init_np2)\n",
        "draw_result(x_init_np2, y_pred2, 'solution-NN')\n",
        "evaluate_error_np(x_init_np2)"
      ]
    },
    {
      "cell_type": "code",
      "execution_count": null,
      "metadata": {
        "colab": {
          "background_save": true
        },
        "id": "fc5-liOp8099"
      },
      "outputs": [],
      "source": [
        "step_size = []\n",
        "error = []\n",
        "for k in [4,6,8,10,12, 14, 26]:\n",
        "    x_vec = np.arange(start=a, stop=b+step/k, step=step/k)\n",
        "    y_pred = evaluate_np(x_vec)\n",
        "    error.append(evaluate_error_np(x_vec))\n",
        "    step_size.append(step/k)"
      ]
    },
    {
      "cell_type": "code",
      "execution_count": null,
      "metadata": {
        "colab": {
          "background_save": true
        },
        "id": "erpPFfAS9-jC",
        "outputId": "c95cfc21-ae98-45b5-f20e-47b2614b697c"
      },
      "outputs": [
        {
          "data": {
            "image/png": "[encoded data removed]",
            "text/plain": [
              "<Figure size 432x288 with 1 Axes>"
            ]
          },
          "metadata": {},
          "output_type": "display_data"
        },
        {
          "name": "stdout",
          "output_type": "stream",
          "text": [
            "[0.0025, 0.0016666666666666668, 0.00125, 0.001, 0.0008333333333333334, 0.0007142857142857143, 0.0003846153846153846]\n"
          ]
        }
      ],
      "source": [
        "draw_result(step_size[::-1], error[::-1], 'error')\n",
        "print(step_size)"
      ]
    },
    {
      "cell_type": "markdown",
      "metadata": {
        "id": "oreTdjj9rjCW"
      },
      "source": [
        "# Appendix: Understanding pytorch gradient"
      ]
    },
    {
      "cell_type": "markdown",
      "metadata": {
        "id": "rUxBjI6nrnpA"
      },
      "source": [
        "We create two vectors\n",
        "\n",
        "$$a = \\begin{bmatrix} {2\\\\3}\n",
        "\\end{bmatrix}, \\qquad\\text{and}\\qquad b = \\begin{bmatrix} {6\\\\4}\n",
        "\\end{bmatrix}$$\n",
        "\n",
        "Let us consider the function\n",
        "\n",
        "$$ Q(x,y) = 3x^3 - y^2$$\n",
        "\n",
        "The convention here is that, if \n",
        "$$\\mathbf{x} = \\begin{bmatrix} {x_1\\\\x_2\\\\ \\vdots\\\\ x_n}\n",
        "\\end{bmatrix} \\qquad\\text{and}\\qquad \\mathbf{y} = \\begin{bmatrix} {y_1\\\\y_2\\\\ \\vdots\\\\ y_n}\n",
        "\\end{bmatrix}$$\n",
        "then\n",
        "the action of $Q$ on $\\mathbf{x}, \\mathbf{y}$ are component-wise, i.e.,\n",
        "\n",
        "$$ Q(\\mathbf{x},\\mathbf{y}) = \\begin{bmatrix} {Q(x_1,y_1)\\\\ Q(x_2,y_2)\\\\ \\vdots\\\\ Q(x_n,y_n)}\n",
        "\\end{bmatrix} $$\n",
        "\n",
        "In `pytorch`, this is saved as a tensor object."
      ]
    }
  ],
  "metadata": {
    "accelerator": "GPU",
    "colab": {
      "collapsed_sections": [
        "oreTdjj9rjCW"
      ],
      "name": "Working example 02-finite-difference - mod 01.ipynb",
      "provenance": []
    },
    "kernelspec": {
      "display_name": "Python 3",
      "name": "python3"
    },
    "language_info": {
      "name": "python"
    }
  },
  "nbformat": 4,
  "nbformat_minor": 0
}
